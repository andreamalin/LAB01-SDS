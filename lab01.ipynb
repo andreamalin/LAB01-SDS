{
 "cells": [
  {
   "cell_type": "code",
   "execution_count": 13,
   "metadata": {},
   "outputs": [],
   "source": [
    "import pandas as pd\n",
    "import re"
   ]
  },
  {
   "cell_type": "code",
   "execution_count": 14,
   "metadata": {},
   "outputs": [],
   "source": [
    "df = pd.read_csv(\"dataset_pishing.csv\")\n",
    "df.head()\n",
    "\n",
    "columns = ['f1','f2', 'f4-20', 'f25', 'f26', 'f27', 'status']\n",
    "cleaned_df = pd.DataFrame(columns=columns)"
   ]
  },
  {
   "cell_type": "code",
   "execution_count": 15,
   "metadata": {},
   "outputs": [
    {
     "name": "stdout",
     "output_type": "stream",
     "text": [
      "LEGIT 5715\n",
      "PHISHING 5715\n"
     ]
    }
   ],
   "source": [
    "print(\"LEGIT\", len(df[df[\"status\"] == \"legitimate\"]))\n",
    "print(\"PHISHING\", len(df[df[\"status\"] == \"phishing\"]))"
   ]
  },
  {
   "cell_type": "code",
   "execution_count": 16,
   "metadata": {},
   "outputs": [],
   "source": [
    "def separate_domain(x):\n",
    "    splitted_text = x.split(\"/\")\n",
    "    return splitted_text[2]\n",
    "\n",
    "df['domain'] = df['url'].apply(separate_domain)"
   ]
  },
  {
   "cell_type": "code",
   "execution_count": 17,
   "metadata": {},
   "outputs": [],
   "source": [
    "def get_length(x):\n",
    "    return len(x)\n",
    "\n",
    "\n",
    "#f1 url length\n",
    "cleaned_df['f1'] = df['url'].apply(get_length)\n",
    "#f2 hostname length\n",
    "cleaned_df['f2'] = df['domain'].apply(get_length)\n"
   ]
  },
  {
   "cell_type": "code",
   "execution_count": 18,
   "metadata": {},
   "outputs": [],
   "source": [
    "def get_special_char_len(x):\n",
    "    return len(re.findall('[.@?&|=_~%/*:,;$ \\-]', x))\n",
    "\n",
    "cleaned_df['f4-20'] = df['url'].apply(get_special_char_len)"
   ]
  },
  {
   "cell_type": "code",
   "execution_count": 19,
   "metadata": {},
   "outputs": [],
   "source": [
    "def isHttps(x):\n",
    "    if x[0:5] == \"https\":\n",
    "        return 1\n",
    "    return 0\n",
    "\n",
    "cleaned_df['f25'] = df['url'].apply(isHttps)"
   ]
  },
  {
   "cell_type": "code",
   "execution_count": 20,
   "metadata": {},
   "outputs": [],
   "source": [
    "def digits_ratio(x):\n",
    "    try:\n",
    "        ratio = len(x) / len(re.sub(\"[^0-9]\", \"\", x)) \n",
    "        return ratio\n",
    "    except:\n",
    "        return 0\n",
    "    \n",
    "cleaned_df['f26'] = df['url'].apply(digits_ratio)\n",
    "cleaned_df['f27'] = df['domain'].apply(digits_ratio)"
   ]
  },
  {
   "cell_type": "code",
   "execution_count": 21,
   "metadata": {},
   "outputs": [],
   "source": [
    "def binary_status(x):\n",
    "    if (x == 'legitimate'):\n",
    "        return 1\n",
    "    return 0\n",
    "\n",
    "cleaned_df['status'] = df['domain'].apply(binary_status)"
   ]
  },
  {
   "cell_type": "code",
   "execution_count": 22,
   "metadata": {},
   "outputs": [
    {
     "data": {
      "text/html": [
       "<div>\n",
       "<style scoped>\n",
       "    .dataframe tbody tr th:only-of-type {\n",
       "        vertical-align: middle;\n",
       "    }\n",
       "\n",
       "    .dataframe tbody tr th {\n",
       "        vertical-align: top;\n",
       "    }\n",
       "\n",
       "    .dataframe thead th {\n",
       "        text-align: right;\n",
       "    }\n",
       "</style>\n",
       "<table border=\"1\" class=\"dataframe\">\n",
       "  <thead>\n",
       "    <tr style=\"text-align: right;\">\n",
       "      <th></th>\n",
       "      <th>f1</th>\n",
       "      <th>f2</th>\n",
       "      <th>f4-20</th>\n",
       "      <th>f25</th>\n",
       "      <th>f26</th>\n",
       "      <th>f27</th>\n",
       "      <th>status</th>\n",
       "    </tr>\n",
       "  </thead>\n",
       "  <tbody>\n",
       "    <tr>\n",
       "      <th>0</th>\n",
       "      <td>37</td>\n",
       "      <td>19</td>\n",
       "      <td>7</td>\n",
       "      <td>0</td>\n",
       "      <td>0.000000</td>\n",
       "      <td>0.0</td>\n",
       "      <td>0</td>\n",
       "    </tr>\n",
       "    <tr>\n",
       "      <th>1</th>\n",
       "      <td>77</td>\n",
       "      <td>23</td>\n",
       "      <td>7</td>\n",
       "      <td>0</td>\n",
       "      <td>4.529412</td>\n",
       "      <td>0.0</td>\n",
       "      <td>0</td>\n",
       "    </tr>\n",
       "    <tr>\n",
       "      <th>2</th>\n",
       "      <td>126</td>\n",
       "      <td>50</td>\n",
       "      <td>19</td>\n",
       "      <td>1</td>\n",
       "      <td>6.631579</td>\n",
       "      <td>0.0</td>\n",
       "      <td>0</td>\n",
       "    </tr>\n",
       "    <tr>\n",
       "      <th>3</th>\n",
       "      <td>18</td>\n",
       "      <td>11</td>\n",
       "      <td>5</td>\n",
       "      <td>0</td>\n",
       "      <td>0.000000</td>\n",
       "      <td>0.0</td>\n",
       "      <td>0</td>\n",
       "    </tr>\n",
       "    <tr>\n",
       "      <th>4</th>\n",
       "      <td>55</td>\n",
       "      <td>15</td>\n",
       "      <td>10</td>\n",
       "      <td>0</td>\n",
       "      <td>0.000000</td>\n",
       "      <td>0.0</td>\n",
       "      <td>0</td>\n",
       "    </tr>\n",
       "  </tbody>\n",
       "</table>\n",
       "</div>"
      ],
      "text/plain": [
       "    f1  f2  f4-20  f25       f26  f27  status\n",
       "0   37  19      7    0  0.000000  0.0       0\n",
       "1   77  23      7    0  4.529412  0.0       0\n",
       "2  126  50     19    1  6.631579  0.0       0\n",
       "3   18  11      5    0  0.000000  0.0       0\n",
       "4   55  15     10    0  0.000000  0.0       0"
      ]
     },
     "execution_count": 22,
     "metadata": {},
     "output_type": "execute_result"
    }
   ],
   "source": [
    "cleaned_df.head()"
   ]
  }
 ],
 "metadata": {
  "kernelspec": {
   "display_name": "Python 3",
   "language": "python",
   "name": "python3"
  },
  "language_info": {
   "codemirror_mode": {
    "name": "ipython",
    "version": 3
   },
   "file_extension": ".py",
   "mimetype": "text/x-python",
   "name": "python",
   "nbconvert_exporter": "python",
   "pygments_lexer": "ipython3",
   "version": "3.7.0"
  },
  "orig_nbformat": 4,
  "vscode": {
   "interpreter": {
    "hash": "8fa13260b2ad5da8a92d4362f230c03eee7b3dfd5b47a73cfd4853277a201fcb"
   }
  }
 },
 "nbformat": 4,
 "nbformat_minor": 2
}
